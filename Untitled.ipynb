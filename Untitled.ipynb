{
 "cells": [
  {
   "cell_type": "markdown",
   "id": "080c1475-ebed-4901-ae37-c25e27f84098",
   "metadata": {},
   "source": [
    "# CÓDIGO 1"
   ]
  },
  {
   "cell_type": "code",
   "execution_count": 1,
   "id": "85101197-5eb7-4297-b9ff-251a19d76fa6",
   "metadata": {},
   "outputs": [],
   "source": [
    "X = 10\n",
    "Y = 20\n",
    "Z = X + Y"
   ]
  },
  {
   "cell_type": "code",
   "execution_count": 2,
   "id": "36e9ecf0-6cb0-4167-892f-8363ff3f36fc",
   "metadata": {},
   "outputs": [
    {
     "data": {
      "text/plain": [
       "30"
      ]
     },
     "execution_count": 2,
     "metadata": {},
     "output_type": "execute_result"
    }
   ],
   "source": [
    "Z"
   ]
  }
 ],
 "metadata": {
  "kernelspec": {
   "display_name": "Python 3 (ipykernel)",
   "language": "python",
   "name": "python3"
  },
  "language_info": {
   "codemirror_mode": {
    "name": "ipython",
    "version": 3
   },
   "file_extension": ".py",
   "mimetype": "text/x-python",
   "name": "python",
   "nbconvert_exporter": "python",
   "pygments_lexer": "ipython3",
   "version": "3.11.7"
  }
 },
 "nbformat": 4,
 "nbformat_minor": 5
}
